{
 "cells": [
  {
   "cell_type": "markdown",
   "metadata": {},
   "source": [
    "Welcome to the SQL mini project. You will carry out this project partly in the PHPMyAdmin interface, and partly in Jupyter via a Python connection.\n",
    "\n",
    "This is Tier 2 of the case study, which means that there'll be less guidance for you about how to setup your local SQLite connection in PART 2 of the case study. This will make the case study more challenging for you: you might need to do some digging, aand revise the Working with Relational Databases in Python chapter in the previous resource.\n",
    "\n",
    "Otherwise, the questions in the case study are exactly the same as with Tier 1. "
   ]
  },
  {
   "cell_type": "markdown",
   "metadata": {},
   "source": [
    "## PART 1: PHPMyAdmin"
   ]
  },
  {
   "cell_type": "markdown",
   "metadata": {},
   "source": [
    "You will complete questions 1-9 below in the PHPMyAdmin interface. \n",
    "\n",
    "The data you need is in the \"country_club\" database. This database contains 3 tables:\n",
    "    i) the \"Bookings\" table,\n",
    "    ii) the \"Facilities\" table, and\n",
    "    iii) the \"Members\" table.\n",
    "\n",
    "In this case study, you'll be asked a series of questions. You can solve them using the platform, but for the final deliverable, paste the code for each solution into this script, and upload it to your GitHub.\n",
    "\n",
    "Before starting with the questions, feel free to take your time, exploring the data, and getting acquainted with the 3 tables."
   ]
  },
  {
   "cell_type": "markdown",
   "metadata": {},
   "source": [
    "### QUESTIONS "
   ]
  },
  {
   "cell_type": "markdown",
   "metadata": {},
   "source": [
    "Q1: Some of the facilities charge a fee to members, but some do not. Write a SQL query to produce a list of the names of the facilities that do."
   ]
  },
  {
   "cell_type": "code",
   "execution_count": null,
   "metadata": {},
   "outputs": [],
   "source": [
    "SELECT name\n",
    "FROM Facilities\n",
    "WHERE membercost > 0;"
   ]
  },
  {
   "cell_type": "markdown",
   "metadata": {},
   "source": [
    "Q2: How many facilities do not charge a fee to members? "
   ]
  },
  {
   "cell_type": "code",
   "execution_count": null,
   "metadata": {},
   "outputs": [],
   "source": [
    "SELECT COUNT(facid)\n",
    "FROM Facilities\n",
    "WHERE membercost = 0;"
   ]
  },
  {
   "cell_type": "markdown",
   "metadata": {},
   "source": [
    "Q3: Write an SQL query to show a list of facilities that charge a fee to members, where the fee is less than 20% of the facility's monthly maintenance cost. Return the facid, facility name, member cost, and monthly maintenance of the facilities in question."
   ]
  },
  {
   "cell_type": "code",
   "execution_count": null,
   "metadata": {},
   "outputs": [],
   "source": [
    "SELECT facid, name, membercost, monthlymaintenance\n",
    "FROM Facilities\n",
    "WHERE facid\n",
    "IN (\n",
    "    SELECT facid\n",
    "    FROM Facilities\n",
    "    WHERE membercost > 0\n",
    "    )\n",
    "AND (membercost / monthlymaintenance) < 0.2;"
   ]
  },
  {
   "cell_type": "markdown",
   "metadata": {},
   "source": [
    "Q4: Write an SQL query to retrieve the details of facilities with ID 1 and 5. Try writing the query without using the OR operator."
   ]
  },
  {
   "cell_type": "code",
   "execution_count": null,
   "metadata": {},
   "outputs": [],
   "source": [
    "SELECT *\n",
    "FROM Facilities\n",
    "WHERE facid\n",
    "IN (1, 5);"
   ]
  },
  {
   "cell_type": "markdown",
   "metadata": {},
   "source": [
    "Q5: Produce a list of facilities, with each labelled as 'cheap' or 'expensive', depending on if their monthly maintenance cost is more than $100. Return the name and monthly maintenance of the facilities in question."
   ]
  },
  {
   "cell_type": "code",
   "execution_count": null,
   "metadata": {},
   "outputs": [],
   "source": [
    "SELECT name, monthlymaintenance,\n",
    "CASE \n",
    "    WHEN monthlymaintenance >100\n",
    "        THEN 'expensive'\n",
    "    ELSE 'cheap'\n",
    "    END \n",
    "    AS expense\n",
    "FROM Facilities;"
   ]
  },
  {
   "cell_type": "markdown",
   "metadata": {},
   "source": [
    "Q6: You'd like to get the first and last name of the last member(s) who signed up. Try not to use the LIMIT clause for your solution."
   ]
  },
  {
   "cell_type": "code",
   "execution_count": null,
   "metadata": {},
   "outputs": [],
   "source": [
    "SELECT firstname, surname\n",
    "FROM Members\n",
    "WHERE (\n",
    "    SELECT MAX(joindate)\n",
    "    FROM Members\n",
    "    ) = joindate"
   ]
  },
  {
   "cell_type": "markdown",
   "metadata": {},
   "source": [
    "Q7: Produce a list of all members who have used a tennis court. Include in your output the name of the court, and the name of the member formatted as a single column. Ensure no duplicate data, and order by the member name."
   ]
  },
  {
   "cell_type": "code",
   "execution_count": null,
   "metadata": {},
   "outputs": [],
   "source": [
    "SELECT DISTINCT(\n",
    "    CONCAT(m.firstname,' ', m.surname,' ', \n",
    "           CASE \n",
    "           WHEN facid = 0 THEN 'Tennis Court 1' ELSE 'Tennis Court 2' END)) AS list\n",
    "FROM Members AS m\n",
    "LEFT JOIN Bookings AS b\n",
    "ON m.memid = b.memid\n",
    "WHERE facid IN (0,1)\n",
    "ORDER BY list;\n",
    "\n",
    "# Just reread the question and now I'm like... this was probably meant to be two columns\n",
    "# not one column, but also am unsure, so I'm just gonna provide both, also, yes, I could\n",
    "# join in the facilities table, and would if there were more than two options\n",
    "# for the tennis court names, but that honestly seemed like a waste of processing power\n",
    "\n",
    "SELECT \n",
    "    CONCAT(m.firstname,' ', m.surname) AS member_name, \n",
    "    CASE WHEN facid = 0 THEN 'Tennis Court 1' ELSE 'Tennis Court 2' END AS court\n",
    "FROM Members AS m\n",
    "LEFT JOIN Bookings AS b\n",
    "ON m.memid = b.memid\n",
    "WHERE facid IN (0,1)\n",
    "GROUP BY member_name, court\n",
    "ORDER BY member_name;"
   ]
  },
  {
   "cell_type": "markdown",
   "metadata": {},
   "source": [
    "Q8: Produce a list of bookings on the day of 2012-09-14 which will cost the member (or guest) more than $30. Remember that guests have different costs to members (the listed costs are per half-hour 'slot'), and the guest user's ID is always 0. Include in your output the name of the facility, the name of the member formatted as a single column, and the cost. Order by descending cost, and do not use any subqueries."
   ]
  },
  {
   "cell_type": "code",
   "execution_count": null,
   "metadata": {},
   "outputs": [],
   "source": [
    "SELECT f.name AS facility, CONCAT(m.firstname,' ', m.surname),\n",
    "    CASE \n",
    "        WHEN b.memid = 0 THEN f.guestcost * b.slots\n",
    "        ELSE f.membercost * b.slots\n",
    "    END AS cost\n",
    "FROM Bookings AS b\n",
    "LEFT JOIN Facilities AS f\n",
    "ON b.facid = f.facid\n",
    "LEFT JOIN Members AS m\n",
    "ON b.memid = m.memid\n",
    "WHERE b.starttime LIKE '2012-09-14%' AND \n",
    "((b.memid = 0) AND (f.guestcost * b.slots > 30) OR\n",
    "((b.memid != 0) AND (f.membercost * b.slots > 30)))\n",
    "ORDER BY cost DESC;"
   ]
  },
  {
   "cell_type": "markdown",
   "metadata": {},
   "source": [
    "Q9: This time, produce the same result as in Q8, but using a subquery."
   ]
  },
  {
   "cell_type": "code",
   "execution_count": null,
   "metadata": {},
   "outputs": [],
   "source": [
    "SELECT a.member_name AS 'Member Name', b.name AS Facility, \n",
    "    CASE \n",
    "        WHEN a.memid = 0 THEN b.guestcost * a.slots\n",
    "        ELSE b.membercost * a.slots\n",
    "    END AS cost\n",
    "FROM (SELECT b.memid, b.facid, b.starttime, b.slots, m.member_name\n",
    "FROM Bookings AS b\n",
    "JOIN (SELECT CONCAT(firstname, ' ', surname) AS member_name, memid\n",
    "FROM Members) AS m\n",
    "ON m.memid = b.memid\n",
    "WHERE starttime LIKE '2012-09-14%') AS a\n",
    "LEFT JOIN Facilities as b\n",
    "ON a.facid = b.facid\n",
    "WHERE (member_name = 'GUEST GUEST' AND b.guestcost * a.slots > 30) \n",
    "    OR (member_name != 'GUEST GUEST' AND b.membercost * a.slots > 30)\n",
    "ORDER BY cost;\n",
    "\n",
    "# yeah.... I had memid in the query and forgot, and didn't feel like going back in\n",
    "# and changing the member name being the filter since it still works..."
   ]
  },
  {
   "cell_type": "markdown",
   "metadata": {},
   "source": [
    "# # Part 2: SQLite"
   ]
  },
  {
   "cell_type": "markdown",
   "metadata": {},
   "source": [
    "Export the country club data from PHPMyAdmin, and connect to a local SQLite instance from Jupyter notebook \n",
    "for the following questions."
   ]
  },
  {
   "cell_type": "code",
   "execution_count": 1,
   "metadata": {},
   "outputs": [],
   "source": [
    "from sqlalchemy import create_engine\n",
    "import pandas as pd\n",
    "# Create engine: engine\n",
    "engine = create_engine('sqlite:///sqlite_db_pythonsqlite.db')"
   ]
  },
  {
   "cell_type": "code",
   "execution_count": 2,
   "metadata": {},
   "outputs": [
    {
     "name": "stdout",
     "output_type": "stream",
     "text": [
      "['Bookings', 'Facilities', 'Members']\n"
     ]
    }
   ],
   "source": [
    "#Checking that everything has been imported correctly\n",
    "table_names = engine.table_names()\n",
    "# Print the table names to the shell\n",
    "print(table_names)"
   ]
  },
  {
   "cell_type": "markdown",
   "metadata": {},
   "source": [
    "### QUESTIONS:"
   ]
  },
  {
   "cell_type": "markdown",
   "metadata": {},
   "source": [
    "Q10: Produce a list of facilities with a total revenue less than 1000. The output of facility name and total revenue, sorted by revenue. Remember that there's a different cost for guests and members!"
   ]
  },
  {
   "cell_type": "code",
   "execution_count": 3,
   "metadata": {},
   "outputs": [
    {
     "data": {
      "text/html": [
       "<div>\n",
       "<style scoped>\n",
       "    .dataframe tbody tr th:only-of-type {\n",
       "        vertical-align: middle;\n",
       "    }\n",
       "\n",
       "    .dataframe tbody tr th {\n",
       "        vertical-align: top;\n",
       "    }\n",
       "\n",
       "    .dataframe thead th {\n",
       "        text-align: right;\n",
       "    }\n",
       "</style>\n",
       "<table border=\"1\" class=\"dataframe\">\n",
       "  <thead>\n",
       "    <tr style=\"text-align: right;\">\n",
       "      <th></th>\n",
       "      <th>name</th>\n",
       "      <th>total_cost</th>\n",
       "    </tr>\n",
       "  </thead>\n",
       "  <tbody>\n",
       "    <tr>\n",
       "      <th>0</th>\n",
       "      <td>Badminton Court</td>\n",
       "      <td>1906.5</td>\n",
       "    </tr>\n",
       "    <tr>\n",
       "      <th>5</th>\n",
       "      <td>Squash Court</td>\n",
       "      <td>13468.0</td>\n",
       "    </tr>\n",
       "    <tr>\n",
       "      <th>7</th>\n",
       "      <td>Tennis Court 1</td>\n",
       "      <td>13860.0</td>\n",
       "    </tr>\n",
       "    <tr>\n",
       "      <th>8</th>\n",
       "      <td>Tennis Court 2</td>\n",
       "      <td>14310.0</td>\n",
       "    </tr>\n",
       "    <tr>\n",
       "      <th>2</th>\n",
       "      <td>Massage Room 2</td>\n",
       "      <td>14454.6</td>\n",
       "    </tr>\n",
       "  </tbody>\n",
       "</table>\n",
       "</div>"
      ],
      "text/plain": [
       "              name  total_cost\n",
       "0  Badminton Court      1906.5\n",
       "5     Squash Court     13468.0\n",
       "7   Tennis Court 1     13860.0\n",
       "8   Tennis Court 2     14310.0\n",
       "2   Massage Room 2     14454.6"
      ]
     },
     "execution_count": 3,
     "metadata": {},
     "output_type": "execute_result"
    }
   ],
   "source": [
    "df = pd.read_sql_query(\"SELECT f.name, SUM(CASE WHEN b.memid = 0 THEN b.slots * f.guestcost ELSE b.slots * f.membercost END) AS total_cost FROM Bookings AS b JOIN Facilities AS f ON b.facid = f.facid GROUP BY name\", \n",
    "                       engine)\n",
    "dr = df.loc[df['total_cost'] > 1000]\n",
    "dr = dr.sort_values(by = 'total_cost')\n",
    "\n",
    "dr.head()"
   ]
  },
  {
   "cell_type": "markdown",
   "metadata": {},
   "source": [
    "Q11: Produce a report of members and who recommended them in alphabetic surname, firstname order"
   ]
  },
  {
   "cell_type": "code",
   "execution_count": 4,
   "metadata": {},
   "outputs": [
    {
     "data": {
      "text/html": [
       "<div>\n",
       "<style scoped>\n",
       "    .dataframe tbody tr th:only-of-type {\n",
       "        vertical-align: middle;\n",
       "    }\n",
       "\n",
       "    .dataframe tbody tr th {\n",
       "        vertical-align: top;\n",
       "    }\n",
       "\n",
       "    .dataframe thead th {\n",
       "        text-align: right;\n",
       "    }\n",
       "</style>\n",
       "<table border=\"1\" class=\"dataframe\">\n",
       "  <thead>\n",
       "    <tr style=\"text-align: right;\">\n",
       "      <th></th>\n",
       "      <th>member_name</th>\n",
       "      <th>recommender</th>\n",
       "    </tr>\n",
       "  </thead>\n",
       "  <tbody>\n",
       "    <tr>\n",
       "      <th>2</th>\n",
       "      <td>Anne Baker</td>\n",
       "      <td>Ponder Stibbons</td>\n",
       "    </tr>\n",
       "    <tr>\n",
       "      <th>1</th>\n",
       "      <td>David Jones</td>\n",
       "      <td>Janice Joplette</td>\n",
       "    </tr>\n",
       "    <tr>\n",
       "      <th>7</th>\n",
       "      <td>Douglas Jones</td>\n",
       "      <td>David Jones</td>\n",
       "    </tr>\n",
       "    <tr>\n",
       "      <th>3</th>\n",
       "      <td>Florence Bader</td>\n",
       "      <td>Ponder Stibbons</td>\n",
       "    </tr>\n",
       "    <tr>\n",
       "      <th>8</th>\n",
       "      <td>Henrietta Rumney</td>\n",
       "      <td>Matthew Genting</td>\n",
       "    </tr>\n",
       "    <tr>\n",
       "      <th>5</th>\n",
       "      <td>Joan Coplin</td>\n",
       "      <td>Timothy Baker</td>\n",
       "    </tr>\n",
       "    <tr>\n",
       "      <th>9</th>\n",
       "      <td>John Hunt</td>\n",
       "      <td>Millicent Purview</td>\n",
       "    </tr>\n",
       "    <tr>\n",
       "      <th>4</th>\n",
       "      <td>Matthew Genting</td>\n",
       "      <td>Gerald Butters</td>\n",
       "    </tr>\n",
       "    <tr>\n",
       "      <th>0</th>\n",
       "      <td>Nancy Dare</td>\n",
       "      <td>Janice Joplette</td>\n",
       "    </tr>\n",
       "    <tr>\n",
       "      <th>6</th>\n",
       "      <td>Ramnaresh Sarwin</td>\n",
       "      <td>Florence Bader</td>\n",
       "    </tr>\n",
       "  </tbody>\n",
       "</table>\n",
       "</div>"
      ],
      "text/plain": [
       "        member_name        recommender\n",
       "2        Anne Baker    Ponder Stibbons\n",
       "1       David Jones    Janice Joplette\n",
       "7     Douglas Jones        David Jones\n",
       "3    Florence Bader    Ponder Stibbons\n",
       "8  Henrietta Rumney    Matthew Genting\n",
       "5       Joan Coplin      Timothy Baker\n",
       "9         John Hunt  Millicent Purview\n",
       "4   Matthew Genting     Gerald Butters\n",
       "0        Nancy Dare    Janice Joplette\n",
       "6  Ramnaresh Sarwin     Florence Bader"
      ]
     },
     "execution_count": 4,
     "metadata": {},
     "output_type": "execute_result"
    }
   ],
   "source": [
    "recs = pd.read_sql_query(\"SELECT m.firstname || ' ' || m.surname AS 'member_name', recs.recommender FROM Members AS m JOIN (SELECT memid, firstname || ' ' || surname AS recommender FROM Members WHERE recommendedby > 0) AS recs ON m.recommendedby = recs.memid\", engine)\n",
    "recs = recs.sort_values(by = 'member_name')\n",
    "recs.head(10)"
   ]
  },
  {
   "cell_type": "markdown",
   "metadata": {},
   "source": [
    "Q12: Find the facilities with their usage by member, but not guests"
   ]
  },
  {
   "cell_type": "code",
   "execution_count": 5,
   "metadata": {},
   "outputs": [
    {
     "data": {
      "text/html": [
       "<div>\n",
       "<style scoped>\n",
       "    .dataframe tbody tr th:only-of-type {\n",
       "        vertical-align: middle;\n",
       "    }\n",
       "\n",
       "    .dataframe tbody tr th {\n",
       "        vertical-align: top;\n",
       "    }\n",
       "\n",
       "    .dataframe thead th {\n",
       "        text-align: right;\n",
       "    }\n",
       "</style>\n",
       "<table border=\"1\" class=\"dataframe\">\n",
       "  <thead>\n",
       "    <tr style=\"text-align: right;\">\n",
       "      <th></th>\n",
       "      <th>name</th>\n",
       "      <th>member_uses</th>\n",
       "    </tr>\n",
       "  </thead>\n",
       "  <tbody>\n",
       "    <tr>\n",
       "      <th>0</th>\n",
       "      <td>Badminton Court</td>\n",
       "      <td>344</td>\n",
       "    </tr>\n",
       "    <tr>\n",
       "      <th>1</th>\n",
       "      <td>Massage Room 1</td>\n",
       "      <td>421</td>\n",
       "    </tr>\n",
       "    <tr>\n",
       "      <th>2</th>\n",
       "      <td>Massage Room 2</td>\n",
       "      <td>27</td>\n",
       "    </tr>\n",
       "    <tr>\n",
       "      <th>3</th>\n",
       "      <td>Pool Table</td>\n",
       "      <td>783</td>\n",
       "    </tr>\n",
       "    <tr>\n",
       "      <th>4</th>\n",
       "      <td>Snooker Table</td>\n",
       "      <td>421</td>\n",
       "    </tr>\n",
       "    <tr>\n",
       "      <th>5</th>\n",
       "      <td>Squash Court</td>\n",
       "      <td>195</td>\n",
       "    </tr>\n",
       "    <tr>\n",
       "      <th>6</th>\n",
       "      <td>Table Tennis</td>\n",
       "      <td>385</td>\n",
       "    </tr>\n",
       "    <tr>\n",
       "      <th>7</th>\n",
       "      <td>Tennis Court 1</td>\n",
       "      <td>308</td>\n",
       "    </tr>\n",
       "    <tr>\n",
       "      <th>8</th>\n",
       "      <td>Tennis Court 2</td>\n",
       "      <td>276</td>\n",
       "    </tr>\n",
       "  </tbody>\n",
       "</table>\n",
       "</div>"
      ],
      "text/plain": [
       "              name  member_uses\n",
       "0  Badminton Court          344\n",
       "1   Massage Room 1          421\n",
       "2   Massage Room 2           27\n",
       "3       Pool Table          783\n",
       "4    Snooker Table          421\n",
       "5     Squash Court          195\n",
       "6     Table Tennis          385\n",
       "7   Tennis Court 1          308\n",
       "8   Tennis Court 2          276"
      ]
     },
     "execution_count": 5,
     "metadata": {},
     "output_type": "execute_result"
    }
   ],
   "source": [
    "member_use = pd.read_sql_query(\"SELECT f.name, COUNT(b.bookid) AS member_uses FROM Bookings AS b JOIN Facilities AS f ON b.facid = f.facid WHERE memid != 0 GROUP BY f.name\", engine)\n",
    "member_use.head(10)"
   ]
  },
  {
   "cell_type": "markdown",
   "metadata": {},
   "source": [
    "Q13: Find the facilities usage by month, but not guests"
   ]
  },
  {
   "cell_type": "code",
   "execution_count": 6,
   "metadata": {},
   "outputs": [
    {
     "data": {
      "text/html": [
       "<div>\n",
       "<style scoped>\n",
       "    .dataframe tbody tr th:only-of-type {\n",
       "        vertical-align: middle;\n",
       "    }\n",
       "\n",
       "    .dataframe tbody tr th {\n",
       "        vertical-align: top;\n",
       "    }\n",
       "\n",
       "    .dataframe thead th {\n",
       "        text-align: right;\n",
       "    }\n",
       "</style>\n",
       "<table border=\"1\" class=\"dataframe\">\n",
       "  <thead>\n",
       "    <tr style=\"text-align: right;\">\n",
       "      <th></th>\n",
       "      <th>month</th>\n",
       "      <th>uses</th>\n",
       "      <th>name</th>\n",
       "    </tr>\n",
       "  </thead>\n",
       "  <tbody>\n",
       "    <tr>\n",
       "      <th>0</th>\n",
       "      <td>07</td>\n",
       "      <td>56</td>\n",
       "      <td>Badminton Court</td>\n",
       "    </tr>\n",
       "    <tr>\n",
       "      <th>1</th>\n",
       "      <td>07</td>\n",
       "      <td>123</td>\n",
       "      <td>Massage Room 1</td>\n",
       "    </tr>\n",
       "    <tr>\n",
       "      <th>2</th>\n",
       "      <td>07</td>\n",
       "      <td>12</td>\n",
       "      <td>Massage Room 2</td>\n",
       "    </tr>\n",
       "    <tr>\n",
       "      <th>3</th>\n",
       "      <td>07</td>\n",
       "      <td>110</td>\n",
       "      <td>Pool Table</td>\n",
       "    </tr>\n",
       "    <tr>\n",
       "      <th>4</th>\n",
       "      <td>07</td>\n",
       "      <td>75</td>\n",
       "      <td>Snooker Table</td>\n",
       "    </tr>\n",
       "    <tr>\n",
       "      <th>5</th>\n",
       "      <td>07</td>\n",
       "      <td>75</td>\n",
       "      <td>Squash Court</td>\n",
       "    </tr>\n",
       "    <tr>\n",
       "      <th>6</th>\n",
       "      <td>07</td>\n",
       "      <td>51</td>\n",
       "      <td>Table Tennis</td>\n",
       "    </tr>\n",
       "    <tr>\n",
       "      <th>7</th>\n",
       "      <td>07</td>\n",
       "      <td>88</td>\n",
       "      <td>Tennis Court 1</td>\n",
       "    </tr>\n",
       "    <tr>\n",
       "      <th>8</th>\n",
       "      <td>07</td>\n",
       "      <td>68</td>\n",
       "      <td>Tennis Court 2</td>\n",
       "    </tr>\n",
       "    <tr>\n",
       "      <th>9</th>\n",
       "      <td>08</td>\n",
       "      <td>146</td>\n",
       "      <td>Badminton Court</td>\n",
       "    </tr>\n",
       "  </tbody>\n",
       "</table>\n",
       "</div>"
      ],
      "text/plain": [
       "  month  uses             name\n",
       "0    07    56  Badminton Court\n",
       "1    07   123   Massage Room 1\n",
       "2    07    12   Massage Room 2\n",
       "3    07   110       Pool Table\n",
       "4    07    75    Snooker Table\n",
       "5    07    75     Squash Court\n",
       "6    07    51     Table Tennis\n",
       "7    07    88   Tennis Court 1\n",
       "8    07    68   Tennis Court 2\n",
       "9    08   146  Badminton Court"
      ]
     },
     "execution_count": 6,
     "metadata": {},
     "output_type": "execute_result"
    }
   ],
   "source": [
    "month_use = pd.read_sql_query(\"SELECT strftime('%m', b.starttime) AS month, COUNT(b.bookid) AS uses, f.name FROM Bookings AS b JOIN Facilities AS f ON b.facid = f.facid GROUP BY month, f.name\", engine)\n",
    "month_use.head(10)"
   ]
  },
  {
   "cell_type": "code",
   "execution_count": null,
   "metadata": {},
   "outputs": [],
   "source": []
  }
 ],
 "metadata": {
  "kernelspec": {
   "display_name": "Python 3",
   "language": "python",
   "name": "python3"
  },
  "language_info": {
   "codemirror_mode": {
    "name": "ipython",
    "version": 3
   },
   "file_extension": ".py",
   "mimetype": "text/x-python",
   "name": "python",
   "nbconvert_exporter": "python",
   "pygments_lexer": "ipython3",
   "version": "3.8.3"
  }
 },
 "nbformat": 4,
 "nbformat_minor": 4
}
